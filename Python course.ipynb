{
 "cells": [
  {
   "cell_type": "code",
   "execution_count": 1,
   "id": "1d21d716",
   "metadata": {},
   "outputs": [
    {
     "name": "stdout",
     "output_type": "stream",
     "text": [
      "The factorial of 5 is 120\n"
     ]
    }
   ],
   "source": [
    "def factorial(n):\n",
    "    if n == 0:\n",
    "        return 1\n",
    "    else:\n",
    "        return n * factorial(n - 1)\n",
    "\n",
    "# Test the factorial function\n",
    "num = 5\n",
    "result = factorial(num)\n",
    "print(f\"The factorial of {num} is {result}\")"
   ]
  },
  {
   "cell_type": "code",
   "execution_count": null,
   "id": "817bec4e",
   "metadata": {},
   "outputs": [],
   "source": []
  },
  {
   "cell_type": "code",
   "execution_count": 2,
   "id": "0de8a557",
   "metadata": {},
   "outputs": [
    {
     "name": "stdout",
     "output_type": "stream",
     "text": [
      "98\n"
     ]
    }
   ],
   "source": [
    "x = int (98.6)\n",
    "print (x)"
   ]
  },
  {
   "cell_type": "code",
   "execution_count": 1,
   "id": "c38e16fb",
   "metadata": {},
   "outputs": [
    {
     "name": "stdout",
     "output_type": "stream",
     "text": [
      "hello World\n"
     ]
    }
   ],
   "source": [
    "print(\"hello World\")"
   ]
  },
  {
   "cell_type": "code",
   "execution_count": 4,
   "id": "943e11db",
   "metadata": {},
   "outputs": [],
   "source": [
    "\n",
    "\n",
    "astr = 'Hello Bob' \n",
    "istr = 0 \n",
    "try:\n",
    "    istr = int(astr)\n",
    "except:\n",
    "    istr = 1\n"
   ]
  },
  {
   "cell_type": "code",
   "execution_count": 5,
   "id": "ae5c7991",
   "metadata": {},
   "outputs": [
    {
     "name": "stdout",
     "output_type": "stream",
     "text": [
      "1\n"
     ]
    }
   ],
   "source": [
    "print(istr)"
   ]
  },
  {
   "cell_type": "code",
   "execution_count": 6,
   "id": "5032dcf7",
   "metadata": {},
   "outputs": [
    {
     "name": "stdout",
     "output_type": "stream",
     "text": [
      "Enter Hourssdaf\n",
      "sdaf\n"
     ]
    }
   ],
   "source": [
    "hrs = input(\"Enter Hours\")\n",
    "print(hrs)"
   ]
  },
  {
   "cell_type": "code",
   "execution_count": 7,
   "id": "fb510d06",
   "metadata": {},
   "outputs": [
    {
     "name": "stdout",
     "output_type": "stream",
     "text": [
      "2\n"
     ]
    }
   ],
   "source": [
    "def addtwo(a, b):\n",
    "    added = a + b\n",
    "    return a\n",
    "\n",
    "x = addtwo(2, 7)\n",
    "\n",
    "print(x)"
   ]
  },
  {
   "cell_type": "code",
   "execution_count": 10,
   "id": "4b46d98a",
   "metadata": {},
   "outputs": [
    {
     "name": "stdout",
     "output_type": "stream",
     "text": [
      "Enter hours: 45\n",
      "Enter rate: 10.50\n",
      "Pay: 498.75\n"
     ]
    }
   ],
   "source": [
    "# Define the computepay() function\n",
    "def computepay(h, r):\n",
    "    if h <= 40:\n",
    "        pay = h * r\n",
    "    else:\n",
    "        r_p = 40 * r\n",
    "        o_h = h - 40\n",
    "        o_p = o_h * (r * 1.5)\n",
    "        pay = r_p + o_p\n",
    "    return pay\n",
    "\n",
    "hours = float(input(\"Enter hours: \"))\n",
    "rate = float(input(\"Enter rate: \"))\n",
    "\n",
    "total_pay = computepay(hours, rate)\n",
    "\n",
    "print(\"Pay:\", total_pay)"
   ]
  },
  {
   "cell_type": "code",
   "execution_count": 12,
   "id": "2d721298",
   "metadata": {},
   "outputs": [
    {
     "name": "stdout",
     "output_type": "stream",
     "text": [
      "-1\n"
     ]
    }
   ],
   "source": [
    "smallest_so_far = -1\n",
    "for the_num in [9, 41, 12, 3, 74, 15] :\n",
    "    if the_num < smallest_so_far :\n",
    "        smallest_so_far = the_num\n",
    "print (smallest_so_far)"
   ]
  },
  {
   "cell_type": "code",
   "execution_count": null,
   "id": "297257c6",
   "metadata": {},
   "outputs": [],
   "source": [
    "Whatis a good statement to describe the is operator as used in the following if statement:\n",
    "    \n",
    "if smallest is None :\n",
    "    smallest = value\n",
    "    \n"
   ]
  },
  {
   "cell_type": "code",
   "execution_count": 14,
   "id": "f5f5aad4",
   "metadata": {},
   "outputs": [
    {
     "name": "stdout",
     "output_type": "stream",
     "text": [
      "Dry off!\n"
     ]
    }
   ],
   "source": [
    "How many times will the body of the following loop be executed?\n",
    "\n",
    "n=0\n",
    "\n",
    "while n > 0 :\n",
    "    print(\"Lather\")\n",
    "    print(\"Rinse\")\n",
    "\n",
    "print(\"Dry off!\")"
   ]
  },
  {
   "cell_type": "code",
   "execution_count": 16,
   "id": "9973ee1d",
   "metadata": {},
   "outputs": [
    {
     "name": "stdout",
     "output_type": "stream",
     "text": [
      "Enter a number 7\n",
      "Enter a number 2\n",
      "Enter a number bob\n",
      "Invalid input\n",
      "Enter a number 10\n",
      "Enter a number 4\n",
      "Enter a number done\n",
      "Maximum is 10\n",
      "Minimum is 2\n"
     ]
    }
   ],
   "source": [
    "largest = None\n",
    "smallest = None\n",
    "\n",
    "while True:\n",
    "    num = input(\"Enter a number \")\n",
    "\n",
    "    if num == 'done':\n",
    "        break\n",
    "\n",
    "    try:\n",
    "        number = int(num)\n",
    "        if largest is None or number > largest:\n",
    "            largest = number\n",
    "        if smallest is None or number < smallest:\n",
    "            smallest = number\n",
    "    except:\n",
    "        print(\"Invalid input\")\n",
    "\n",
    "if largest is not None and smallest is not None:\n",
    "    print(\"Maximum is\", largest)\n",
    "    print(\"Minimum is\", smallest)\n",
    "else:\n",
    "    print(\"No valid input entered.\")"
   ]
  },
  {
   "cell_type": "code",
   "execution_count": null,
   "id": "ed8e2540",
   "metadata": {},
   "outputs": [],
   "source": [
    "largest = None\n",
    "smallest = None\n",
    "while True:\n",
    "    num = input(\"Enter a number:\")\n",
    "    if num == \"done\":\n",
    "        break\n",
    "\n",
    "    try:\n",
    "        number = int(num)\n",
    "    except:\n",
    "        print(\"Invalid input\")\n",
    "        \n",
    "    if largest is None or number > largest:\n",
    "        largest = number\n",
    "        \n",
    "    if smallest is None or number < smallest:\n",
    "        smallest = number\n",
    "\n",
    "\n",
    "print(\"Maximum is\", largest)\n",
    "print(\"Minimum is\", smallest)"
   ]
  },
  {
   "cell_type": "code",
   "execution_count": 17,
   "id": "0ed62d48",
   "metadata": {},
   "outputs": [
    {
     "name": "stdout",
     "output_type": "stream",
     "text": [
      "Enter a number:7\n",
      "Enter a number:2\n",
      "Enter a number:bob\n",
      "Invalid input\n",
      "Enter a number:10\n",
      "Enter a number:4\n",
      "Enter a number:done\n",
      "Maximum is 10\n",
      "Minimum is 2\n"
     ]
    }
   ],
   "source": [
    "largest = None\n",
    "smallest = None\n",
    "while True:\n",
    "    num = input(\"Enter a number: \")\n",
    "    if num == \"done\":\n",
    "        break\n",
    "\n",
    "    try:\n",
    "        number = int(num)\n",
    "    except:\n",
    "        print(\"Invalid input\")\n",
    "        continue\n",
    "        \n",
    "    if largest == None:\n",
    "        largest = number\n",
    "    elif number > largest:\n",
    "        largest = number\n",
    "        \n",
    "    if smallest == None:\n",
    "        smallest = number\n",
    "    elif number < smallest:\n",
    "        smallest = number\n",
    "\n",
    "print(\"Maximum is\", largest)\n",
    "print(\"Minimum is\", smallest)"
   ]
  },
  {
   "cell_type": "code",
   "execution_count": null,
   "id": "39e2834a",
   "metadata": {},
   "outputs": [],
   "source": []
  },
  {
   "cell_type": "code",
   "execution_count": null,
   "id": "0c36beaa",
   "metadata": {},
   "outputs": [],
   "source": []
  }
 ],
 "metadata": {
  "kernelspec": {
   "display_name": "Python 3 (ipykernel)",
   "language": "python",
   "name": "python3"
  },
  "language_info": {
   "codemirror_mode": {
    "name": "ipython",
    "version": 3
   },
   "file_extension": ".py",
   "mimetype": "text/x-python",
   "name": "python",
   "nbconvert_exporter": "python",
   "pygments_lexer": "ipython3",
   "version": "3.10.9"
  }
 },
 "nbformat": 4,
 "nbformat_minor": 5
}

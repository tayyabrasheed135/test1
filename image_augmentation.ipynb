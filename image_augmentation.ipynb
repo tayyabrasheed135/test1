{
 "cells": [
  {
   "cell_type": "code",
   "execution_count": null,
   "id": "b49f5b91",
   "metadata": {},
   "outputs": [],
   "source": [
    "import cv2\n",
    "import numpy as np"
   ]
  },
  {
   "cell_type": "code",
   "execution_count": null,
   "id": "7b2365ad",
   "metadata": {},
   "outputs": [],
   "source": [
    "# Load the original image\n",
    "image = cv2.imread('input_image.jpg')\n",
    "\n",
    "# Define the overlay image (e.g., a virtual object, text, etc.)\n",
    "overlay = cv2.imread('overlay_image.png')\n",
    "\n",
    "# Define the position to overlay the object (coordinates)\n",
    "x, y = 100, 100  # Adjust these coordinates as needed\n",
    "\n",
    "# Get the dimensions of the overlay image\n",
    "height, width, _ = overlay.shape\n",
    "\n",
    "# Overlay the image by copying pixels from the overlay to the original image\n",
    "for i in range(height):\n",
    "    for j in range(width):\n",
    "        if all(overlay[i, j] != [0, 0, 0]):  # Check if the pixel is not black\n",
    "            image[y + i, x + j] = overlay[i, j]\n",
    "\n",
    "# Save the augmented image\n",
    "cv2.imwrite('augmented_image.jpg', image)"
   ]
  },
  {
   "cell_type": "code",
   "execution_count": null,
   "id": "df42ae94",
   "metadata": {},
   "outputs": [],
   "source": []
  },
  {
   "cell_type": "code",
   "execution_count": null,
   "id": "a84223f7",
   "metadata": {},
   "outputs": [],
   "source": []
  },
  {
   "cell_type": "code",
   "execution_count": null,
   "id": "b23c44a6",
   "metadata": {},
   "outputs": [],
   "source": []
  }
 ],
 "metadata": {
  "kernelspec": {
   "display_name": "Python 3 (ipykernel)",
   "language": "python",
   "name": "python3"
  },
  "language_info": {
   "codemirror_mode": {
    "name": "ipython",
    "version": 3
   },
   "file_extension": ".py",
   "mimetype": "text/x-python",
   "name": "python",
   "nbconvert_exporter": "python",
   "pygments_lexer": "ipython3",
   "version": "3.10.9"
  }
 },
 "nbformat": 4,
 "nbformat_minor": 5
}
